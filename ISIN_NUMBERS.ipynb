{
 "cells": [
  {
   "cell_type": "code",
   "execution_count": null,
   "metadata": {},
   "outputs": [],
   "source": [
    "import pymysql \n",
    "pymysql.install_as_MySQLdb()"
   ]
  },
  {
   "cell_type": "code",
   "execution_count": null,
   "metadata": {},
   "outputs": [],
   "source": [
    "db = pymysql.connect(host=\"localhost\",    \n",
    "                     user=\"root\",        \n",
    "                     passwd=\"\", \n",
    "                     db=\"db\") \n",
    " "
   ]
  },
  {
   "cell_type": "code",
   "execution_count": null,
   "metadata": {},
   "outputs": [],
   "source": [
    "import pandas as pd"
   ]
  },
  {
   "cell_type": "code",
   "execution_count": null,
   "metadata": {},
   "outputs": [],
   "source": [
    "cur = db.cursor()"
   ]
  },
  {
   "cell_type": "code",
   "execution_count": null,
   "metadata": {},
   "outputs": [],
   "source": [
    "cur.execute('CREATE TABLE ISIN_NUMBER ( STOCK_SYMBOL VARCHAR( 15 ) PRIMARY KEY, ISIN INT UNIQUE KEY , STOCK_NAME VARCHAR( 50 ) )')"
   ]
  },
  {
   "cell_type": "code",
   "execution_count": null,
   "metadata": {},
   "outputs": [],
   "source": [
    "from nsetools import Nse"
   ]
  },
  {
   "cell_type": "code",
   "execution_count": null,
   "metadata": {},
   "outputs": [],
   "source": [
    "nse = Nse( )"
   ]
  },
  {
   "cell_type": "code",
   "execution_count": null,
   "metadata": {},
   "outputs": [],
   "source": [
    "all_stock_codes = nse.get_stock_codes()"
   ]
  },
  {
   "cell_type": "code",
   "execution_count": null,
   "metadata": {},
   "outputs": [],
   "source": [
    "for key , value in all_stock_codes.items( ):\n",
    "    try :\n",
    "        s = key \n",
    "        s.replace( \" \" , \"\" )\n",
    "        df = nse.get_quote(s)\n",
    "        symbol = df['symbol']\n",
    "        companyName = df['companyName']\n",
    "        isinCode = df['isinCode']\n",
    "        cur.execute(\"INSERT INTO isin_number VALUES (%s,%s,%s)\",(symbol,companyName,isinCode) ) \n",
    "        db.commit()\n",
    "    except:\n",
    "        print( s )"
   ]
  },
  {
   "cell_type": "code",
   "execution_count": null,
   "metadata": {},
   "outputs": [],
   "source": []
  }
 ],
 "metadata": {
  "kernelspec": {
   "display_name": "Python 3",
   "language": "python",
   "name": "python3"
  },
  "language_info": {
   "codemirror_mode": {
    "name": "ipython",
    "version": 3
   },
   "file_extension": ".py",
   "mimetype": "text/x-python",
   "name": "python",
   "nbconvert_exporter": "python",
   "pygments_lexer": "ipython3",
   "version": "3.9.1"
  }
 },
 "nbformat": 4,
 "nbformat_minor": 4
}
